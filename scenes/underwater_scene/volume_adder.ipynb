{
 "cells": [
  {
   "cell_type": "code",
   "execution_count": 3,
   "metadata": {},
   "outputs": [],
   "source": [
    "filename = 'current_underwater_2.xml'\n",
    "output_filename = 'volume_' + filename\n",
    "with open(filename, 'r') as fp:\n",
    "    data = fp.readlines()"
   ]
  },
  {
   "cell_type": "code",
   "execution_count": 4,
   "metadata": {},
   "outputs": [],
   "source": [
    "output_data = []\n",
    "for s_data in data:\n",
    "    if '</shape>\\n' in s_data:\n",
    "        output_data.append('    <ref name=\"exterior\" id=\"medium\"/>\\n')\n",
    "        output_data.append(s_data)\n",
    "    else:\n",
    "        output_data.append(s_data)\n",
    "\n",
    "with open(output_filename,'w') as fp:\n",
    "    for s_data in output_data:\n",
    "        fp.write(s_data)"
   ]
  }
 ],
 "metadata": {
  "kernelspec": {
   "display_name": "base",
   "language": "python",
   "name": "python3"
  },
  "language_info": {
   "codemirror_mode": {
    "name": "ipython",
    "version": 3
   },
   "file_extension": ".py",
   "mimetype": "text/x-python",
   "name": "python",
   "nbconvert_exporter": "python",
   "pygments_lexer": "ipython3",
   "version": "3.9.6"
  }
 },
 "nbformat": 4,
 "nbformat_minor": 2
}
